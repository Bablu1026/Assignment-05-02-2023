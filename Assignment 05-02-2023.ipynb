{
 "cells": [
  {
   "cell_type": "code",
   "execution_count": 1,
   "id": "537f50f8-4780-4993-bd7e-f08c22e35365",
   "metadata": {},
   "outputs": [],
   "source": [
    "# Q:1\n",
    "'''In Object-Oriented Programming (OOP), a class is a blueprint or a template for creating objects, while an object is an instance of a class. \n",
    "A class defines a set of properties (attributes) and methods (functions) that are common to all objects of that class.'''\n",
    "\n",
    "'''An object,is a specific instance of a class that has its own values for the attributes and can use the methods defined \n",
    "in the class.'''\n",
    "\n",
    "class pwskills1 :\n",
    "    def __init__(self , phone_number , email_id , student_id):\n",
    "        self.phone_number = phone_number\n",
    "        self.email_id = email_id\n",
    "        self.student_id = student_id\n",
    "        \n",
    "    def return_student_details(self):\n",
    "        return self.student_id , self.phone_number , self.email_id"
   ]
  },
  {
   "cell_type": "code",
   "execution_count": 2,
   "id": "48235582-b950-4f7b-8ee6-cafdd677d427",
   "metadata": {},
   "outputs": [],
   "source": [
    "Bablu = pwskills1(7020235183,\"yadavbablu59@gmail.com\",1026)"
   ]
  },
  {
   "cell_type": "code",
   "execution_count": 3,
   "id": "5899ffc6-941e-4a4b-a4a3-90d95f31d206",
   "metadata": {},
   "outputs": [
    {
     "data": {
      "text/plain": [
       "(1026, 7020235183, 'yadavbablu59@gmail.com')"
      ]
     },
     "execution_count": 3,
     "metadata": {},
     "output_type": "execute_result"
    }
   ],
   "source": [
    "Bablu.return_student_details()"
   ]
  },
  {
   "cell_type": "code",
   "execution_count": 4,
   "id": "17ae4221-019f-4390-a7ff-0c37a29b4e4e",
   "metadata": {},
   "outputs": [
    {
     "data": {
      "text/plain": [
       "'The four pillars of Object-Oriented Programming (OOP) are:\\n\\nEncapsulation: This is the practice of keeping the implementation details of an object hidden from the outside world, \\nand exposing only the necessary functionality through public interfaces. Encapsulation helps to maintain data integrity \\nand makes it easier to manage the complexity of large programs.\\n\\nInheritance: This is the ability for one class to inherit properties and methods from another class. \\nInheritance promotes code reuse, allows for more flexible design, and can make it easier to maintain and update code.\\n\\nPolymorphism: This is the ability of an object to take on different forms or behaviors depending on the context. \\nPolymorphism allows for more flexible and dynamic programming, and can make code more reusable and maintainable.\\n\\nAbstraction: This is the process of identifying essential features and behaviors of an object, \\nand ignoring or hiding the non-essential details. Abstraction makes it easier to reason about complex systems, \\nand can make code more modular and reusable.'"
      ]
     },
     "execution_count": 4,
     "metadata": {},
     "output_type": "execute_result"
    }
   ],
   "source": [
    "# Q:2\n",
    "'''The four pillars of Object-Oriented Programming (OOP) are:\n",
    "\n",
    "Encapsulation: This is the practice of keeping the implementation details of an object hidden from the outside world, \n",
    "and exposing only the necessary functionality through public interfaces. Encapsulation helps to maintain data integrity \n",
    "and makes it easier to manage the complexity of large programs.\n",
    "\n",
    "Inheritance: This is the ability for one class to inherit properties and methods from another class. \n",
    "Inheritance promotes code reuse, allows for more flexible design, and can make it easier to maintain and update code.\n",
    "\n",
    "Polymorphism: This is the ability of an object to take on different forms or behaviors depending on the context. \n",
    "Polymorphism allows for more flexible and dynamic programming, and can make code more reusable and maintainable.\n",
    "\n",
    "Abstraction: This is the process of identifying essential features and behaviors of an object, \n",
    "and ignoring or hiding the non-essential details. Abstraction makes it easier to reason about complex systems, \n",
    "and can make code more modular and reusable.'''\n"
   ]
  },
  {
   "cell_type": "code",
   "execution_count": 6,
   "id": "5b66c1c8-f119-4050-920e-5456ca16f9e9",
   "metadata": {},
   "outputs": [
    {
     "name": "stdout",
     "output_type": "stream",
     "text": [
      "Hello, my name is Alice and I live in New York. I am 30 years old.\n",
      "Hello, my name is Bob and I live in San Francisco. I am 25 years old.\n"
     ]
    }
   ],
   "source": [
    "# Q:3\n",
    "'''The __init__() function is a special method in Python classes that is called when an instance of the class is created. \n",
    "It is used to initialize the attributes of the object and perform any setup that needs to be done before the object is ready for use'''\n",
    "\n",
    "class Person:\n",
    "    def __init__(self, name, age, city):\n",
    "        self.name = name\n",
    "        self.age = age\n",
    "        self.city = city\n",
    "\n",
    "    def say_hello(self):\n",
    "        print(f\"Hello, my name is {self.name} and I live in {self.city}. I am {self.age} years old.\")\n",
    "\n",
    "person1 = Person(\"Alice\", 30, \"New York\")\n",
    "person2 = Person(\"Bob\", 25, \"San Francisco\")\n",
    "\n",
    "person1.say_hello()  \n",
    "person2.say_hello()  \n",
    "\n"
   ]
  },
  {
   "cell_type": "code",
   "execution_count": null,
   "id": "dc7f4363-0942-4902-8539-dc0f01efdf0b",
   "metadata": {},
   "outputs": [],
   "source": [
    "# Q:4\n",
    "'''In object-oriented programming (OOP), self is a reference to the instance of the class. \n",
    "It is a way for the methods of a class to refer to the attributes and methods of the instance of the class. \n",
    "self is a convention in Python and many other OOP languages.When we create an instance of a class, we need a way to refer to the instance in the methods of the class. \n",
    "self is used to refer to the instance of the class that the method is being called on. \n",
    "It allows the method to access and modify the attributes of the instance.'''"
   ]
  },
  {
   "cell_type": "code",
   "execution_count": 7,
   "id": "d46d10c5-894d-4346-b104-8c946cd58277",
   "metadata": {},
   "outputs": [
    {
     "name": "stdout",
     "output_type": "stream",
     "text": [
      "Fido says woof.\n"
     ]
    }
   ],
   "source": [
    "# Q:5\n",
    "'''Inheritance is a fundamental concept in object-oriented programming (OOP) that allows a new class to be based on an existing class, inheriting all of its attributes and methods. \n",
    "The existing class is called the superclass or parent class, and the new class is called the subclass or child class.'''\n",
    "class Animal:\n",
    "    def __init__(self, name, sound):\n",
    "        self.name = name\n",
    "        self.sound = sound\n",
    "    \n",
    "    def make_sound(self):\n",
    "        print(f\"{self.name} says {self.sound}.\")\n",
    "\n",
    "class Dog(Animal):\n",
    "    def __init__(self, name):\n",
    "        super().__init__(name, \"woof\")\n",
    "\n",
    "dog = Dog(\"Fido\")\n",
    "dog.make_sound()  \n"
   ]
  },
  {
   "cell_type": "code",
   "execution_count": null,
   "id": "56369eee-32aa-4f03-9344-c3a3f1adf58a",
   "metadata": {},
   "outputs": [],
   "source": []
  },
  {
   "cell_type": "code",
   "execution_count": null,
   "id": "1d67f84d-3c98-413a-a156-02d98998dd02",
   "metadata": {},
   "outputs": [],
   "source": []
  },
  {
   "cell_type": "code",
   "execution_count": null,
   "id": "af32238c-1684-4c6b-ae5b-80c9091fe355",
   "metadata": {},
   "outputs": [],
   "source": []
  },
  {
   "cell_type": "code",
   "execution_count": null,
   "id": "8443ebdb-13c0-4fbb-995c-b445897b7f59",
   "metadata": {},
   "outputs": [],
   "source": []
  },
  {
   "cell_type": "code",
   "execution_count": null,
   "id": "b2b8e913-c802-42ea-804e-d77e68214017",
   "metadata": {},
   "outputs": [],
   "source": []
  }
 ],
 "metadata": {
  "kernelspec": {
   "display_name": "Python 3 (ipykernel)",
   "language": "python",
   "name": "python3"
  },
  "language_info": {
   "codemirror_mode": {
    "name": "ipython",
    "version": 3
   },
   "file_extension": ".py",
   "mimetype": "text/x-python",
   "name": "python",
   "nbconvert_exporter": "python",
   "pygments_lexer": "ipython3",
   "version": "3.10.8"
  }
 },
 "nbformat": 4,
 "nbformat_minor": 5
}
